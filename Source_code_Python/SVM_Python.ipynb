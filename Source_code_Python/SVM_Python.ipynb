{
 "cells": [
  {
   "cell_type": "code",
   "execution_count": 1,
   "id": "ba743a1a",
   "metadata": {},
   "outputs": [],
   "source": [
    "import pandas as pd\n",
    "import numpy as np\n",
    "from sklearn.feature_extraction.text import CountVectorizer, TfidfVectorizer\n",
    "from sklearn.metrics import confusion_matrix\n",
    "from sklearn.metrics import classification_report, accuracy_score\n",
    "import matplotlib.pyplot as plt\n",
    "from sklearn.tree import plot_tree\n",
    "from sklearn.utils import resample\n",
    "\n",
    "from sklearn.model_selection import cross_val_score\n",
    "from sklearn.model_selection import cross_val_predict\n",
    "from sklearn.model_selection import train_test_split\n",
    "import seaborn as sns\n",
    "from sklearn.tree import DecisionTreeClassifier\n",
    "from sklearn import metrics\n",
    "from wordcloud import WordCloud, STOPWORDS"
   ]
  },
  {
   "cell_type": "code",
   "execution_count": 2,
   "id": "f5471759",
   "metadata": {},
   "outputs": [
    {
     "data": {
      "text/html": [
       "<div>\n",
       "<style scoped>\n",
       "    .dataframe tbody tr th:only-of-type {\n",
       "        vertical-align: middle;\n",
       "    }\n",
       "\n",
       "    .dataframe tbody tr th {\n",
       "        vertical-align: top;\n",
       "    }\n",
       "\n",
       "    .dataframe thead th {\n",
       "        text-align: right;\n",
       "    }\n",
       "</style>\n",
       "<table border=\"1\" class=\"dataframe\">\n",
       "  <thead>\n",
       "    <tr style=\"text-align: right;\">\n",
       "      <th></th>\n",
       "      <th>label</th>\n",
       "      <th>text</th>\n",
       "      <th>clean_text</th>\n",
       "      <th>Tweet_tokenized</th>\n",
       "      <th>Tweet_without_stop</th>\n",
       "      <th>Tweet_stemmed</th>\n",
       "      <th>Tweet_lemmatized</th>\n",
       "    </tr>\n",
       "  </thead>\n",
       "  <tbody>\n",
       "    <tr>\n",
       "      <th>0</th>\n",
       "      <td>socialworker</td>\n",
       "      <td>As social workers, we will be tested throughou...</td>\n",
       "      <td>As social workers we will be tested throughout...</td>\n",
       "      <td>['as', 'social', 'workers', 'we', 'will', 'be'...</td>\n",
       "      <td>['social', 'workers', 'tested', 'throughout', ...</td>\n",
       "      <td>['social', 'worker', 'test', 'throughout', 'ca...</td>\n",
       "      <td>['social', 'worker', 'tested', 'throughout', '...</td>\n",
       "    </tr>\n",
       "    <tr>\n",
       "      <th>1</th>\n",
       "      <td>socialworker</td>\n",
       "      <td>' @eunice_lumsd'': Exc''l''t H''''.  Wh'' I fo...</td>\n",
       "      <td>' eunic''umsd'' Exc''l''t H''''  Wh'' I found ...</td>\n",
       "      <td>['''', 'eunic''umsd''', 'exc''l''t', 'h''''', ...</td>\n",
       "      <td>['''', 'eunic''umsd''', 'exc''l''t', 'h''''', ...</td>\n",
       "      <td>['''', 'eunic''umsd''', 'exc''', 'h''''', 'fou...</td>\n",
       "      <td>['''', 'eunic''umsd''', 'exc''l''t', 'h''''', ...</td>\n",
       "    </tr>\n",
       "    <tr>\n",
       "      <th>2</th>\n",
       "      <td>socialworker</td>\n",
       "      <td>Flowers for Friday! #friday #doodle #sharpies ...</td>\n",
       "      <td>Flowers for Friday friday doodle sharpies expr...</td>\n",
       "      <td>['flowers', 'for', 'friday', 'friday', 'doodle...</td>\n",
       "      <td>['flowers', 'friday', 'friday', 'doodle', 'sha...</td>\n",
       "      <td>['flower', 'friday', 'friday', 'doodl', 'sharp...</td>\n",
       "      <td>['flower', 'friday', 'friday', 'doodle', 'shar...</td>\n",
       "    </tr>\n",
       "    <tr>\n",
       "      <th>3</th>\n",
       "      <td>socialworker</td>\n",
       "      <td>#Smt_Tulsi_Gowda\\r\\n#socialworker \\r\\n#PadmaSh...</td>\n",
       "      <td>SmtTulsiGowda\\r\\nsocialworker \\r\\nPadmaShriAwa...</td>\n",
       "      <td>['smttulsigowda', 'socialworker', 'padmashriaw...</td>\n",
       "      <td>['smttulsigowda', 'socialworker', 'padmashriaw...</td>\n",
       "      <td>['smttulsigowda', 'socialwork', 'padmashriawar...</td>\n",
       "      <td>['smttulsigowda', 'socialworker', 'padmashriaw...</td>\n",
       "    </tr>\n",
       "    <tr>\n",
       "      <th>4</th>\n",
       "      <td>socialworker</td>\n",
       "      <td>' @PAHospice: *Vacancy*\\r\\nWe're looking for a...</td>\n",
       "      <td>' PAHospice Vacancy\\r\\nWere looking for an exp...</td>\n",
       "      <td>['''', 'pahospice', 'vacancy', 'were', 'lookin...</td>\n",
       "      <td>['''', 'pahospice', 'vacancy', 'looking', 'exp...</td>\n",
       "      <td>['''', 'pahospic', 'vacanc', 'look', 'experi''...</td>\n",
       "      <td>['''', 'pahospice', 'vacancy', 'looking', 'exp...</td>\n",
       "    </tr>\n",
       "  </tbody>\n",
       "</table>\n",
       "</div>"
      ],
      "text/plain": [
       "          label                                               text  \\\n",
       "0  socialworker  As social workers, we will be tested throughou...   \n",
       "1  socialworker  ' @eunice_lumsd'': Exc''l''t H''''.  Wh'' I fo...   \n",
       "2  socialworker  Flowers for Friday! #friday #doodle #sharpies ...   \n",
       "3  socialworker  #Smt_Tulsi_Gowda\\r\\n#socialworker \\r\\n#PadmaSh...   \n",
       "4  socialworker  ' @PAHospice: *Vacancy*\\r\\nWe're looking for a...   \n",
       "\n",
       "                                          clean_text  \\\n",
       "0  As social workers we will be tested throughout...   \n",
       "1  ' eunic''umsd'' Exc''l''t H''''  Wh'' I found ...   \n",
       "2  Flowers for Friday friday doodle sharpies expr...   \n",
       "3  SmtTulsiGowda\\r\\nsocialworker \\r\\nPadmaShriAwa...   \n",
       "4  ' PAHospice Vacancy\\r\\nWere looking for an exp...   \n",
       "\n",
       "                                     Tweet_tokenized  \\\n",
       "0  ['as', 'social', 'workers', 'we', 'will', 'be'...   \n",
       "1  ['''', 'eunic''umsd''', 'exc''l''t', 'h''''', ...   \n",
       "2  ['flowers', 'for', 'friday', 'friday', 'doodle...   \n",
       "3  ['smttulsigowda', 'socialworker', 'padmashriaw...   \n",
       "4  ['''', 'pahospice', 'vacancy', 'were', 'lookin...   \n",
       "\n",
       "                                  Tweet_without_stop  \\\n",
       "0  ['social', 'workers', 'tested', 'throughout', ...   \n",
       "1  ['''', 'eunic''umsd''', 'exc''l''t', 'h''''', ...   \n",
       "2  ['flowers', 'friday', 'friday', 'doodle', 'sha...   \n",
       "3  ['smttulsigowda', 'socialworker', 'padmashriaw...   \n",
       "4  ['''', 'pahospice', 'vacancy', 'looking', 'exp...   \n",
       "\n",
       "                                       Tweet_stemmed  \\\n",
       "0  ['social', 'worker', 'test', 'throughout', 'ca...   \n",
       "1  ['''', 'eunic''umsd''', 'exc''', 'h''''', 'fou...   \n",
       "2  ['flower', 'friday', 'friday', 'doodl', 'sharp...   \n",
       "3  ['smttulsigowda', 'socialwork', 'padmashriawar...   \n",
       "4  ['''', 'pahospic', 'vacanc', 'look', 'experi''...   \n",
       "\n",
       "                                    Tweet_lemmatized  \n",
       "0  ['social', 'worker', 'tested', 'throughout', '...  \n",
       "1  ['''', 'eunic''umsd''', 'exc''l''t', 'h''''', ...  \n",
       "2  ['flower', 'friday', 'friday', 'doodle', 'shar...  \n",
       "3  ['smttulsigowda', 'socialworker', 'padmashriaw...  \n",
       "4  ['''', 'pahospice', 'vacancy', 'looking', 'exp...  "
      ]
     },
     "execution_count": 2,
     "metadata": {},
     "output_type": "execute_result"
    }
   ],
   "source": [
    "df=pd.read_csv('Clean_Tweets_DT.csv')\n",
    "df.head()"
   ]
  },
  {
   "cell_type": "code",
   "execution_count": 3,
   "id": "fec41507",
   "metadata": {},
   "outputs": [
    {
     "data": {
      "text/html": [
       "<div>\n",
       "<style scoped>\n",
       "    .dataframe tbody tr th:only-of-type {\n",
       "        vertical-align: middle;\n",
       "    }\n",
       "\n",
       "    .dataframe tbody tr th {\n",
       "        vertical-align: top;\n",
       "    }\n",
       "\n",
       "    .dataframe thead th {\n",
       "        text-align: right;\n",
       "    }\n",
       "</style>\n",
       "<table border=\"1\" class=\"dataframe\">\n",
       "  <thead>\n",
       "    <tr style=\"text-align: right;\">\n",
       "      <th></th>\n",
       "      <th>label</th>\n",
       "      <th>Tweet_lemmatized</th>\n",
       "    </tr>\n",
       "  </thead>\n",
       "  <tbody>\n",
       "    <tr>\n",
       "      <th>0</th>\n",
       "      <td>socialworker</td>\n",
       "      <td>['social', 'worker', 'tested', 'throughout', '...</td>\n",
       "    </tr>\n",
       "    <tr>\n",
       "      <th>1</th>\n",
       "      <td>socialworker</td>\n",
       "      <td>['''', 'eunic''umsd''', 'exc''l''t', 'h''''', ...</td>\n",
       "    </tr>\n",
       "    <tr>\n",
       "      <th>2</th>\n",
       "      <td>socialworker</td>\n",
       "      <td>['flower', 'friday', 'friday', 'doodle', 'shar...</td>\n",
       "    </tr>\n",
       "    <tr>\n",
       "      <th>3</th>\n",
       "      <td>socialworker</td>\n",
       "      <td>['smttulsigowda', 'socialworker', 'padmashriaw...</td>\n",
       "    </tr>\n",
       "    <tr>\n",
       "      <th>4</th>\n",
       "      <td>socialworker</td>\n",
       "      <td>['''', 'pahospice', 'vacancy', 'looking', 'exp...</td>\n",
       "    </tr>\n",
       "  </tbody>\n",
       "</table>\n",
       "</div>"
      ],
      "text/plain": [
       "          label                                   Tweet_lemmatized\n",
       "0  socialworker  ['social', 'worker', 'tested', 'throughout', '...\n",
       "1  socialworker  ['''', 'eunic''umsd''', 'exc''l''t', 'h''''', ...\n",
       "2  socialworker  ['flower', 'friday', 'friday', 'doodle', 'shar...\n",
       "3  socialworker  ['smttulsigowda', 'socialworker', 'padmashriaw...\n",
       "4  socialworker  ['''', 'pahospice', 'vacancy', 'looking', 'exp..."
      ]
     },
     "execution_count": 3,
     "metadata": {},
     "output_type": "execute_result"
    }
   ],
   "source": [
    "df = df[['label','Tweet_lemmatized']]\n",
    "df.head()"
   ]
  },
  {
   "cell_type": "code",
   "execution_count": 4,
   "id": "f9e66b00",
   "metadata": {},
   "outputs": [
    {
     "data": {
      "text/plain": [
       "['social worker tested throughout career here attitude service authticity grit httpstcokfkbatok',\n",
       " ' eunicumsd exclt h found ecsdn yr ago wish studied becoming socialworker h ',\n",
       " 'flower friday friday doodle sharpy expressiveastherapist socialworker certifiedtreprovider calgar httpstcopcrwekufha',\n",
       " 'smttulsigowda socialworker padmashriaward karanatakatourism karanataka trib woman httpstcowvrlyeht',\n",
       " ' pahospice vacancy looking expericed socialworker great communication counsling advocacy skill suppor ']"
      ]
     },
     "execution_count": 4,
     "metadata": {},
     "output_type": "execute_result"
    }
   ],
   "source": [
    "final_tweets=[i.replace(\",\",\"\").replace(\"[\",\"\").replace(\"]\",\"\").replace(\"'\",\"\") for i in df['Tweet_lemmatized']]\n",
    "final_tweets[0:5]"
   ]
  },
  {
   "cell_type": "code",
   "execution_count": 5,
   "id": "9a85c80a",
   "metadata": {},
   "outputs": [],
   "source": [
    "df['final_tweets']=final_tweets"
   ]
  },
  {
   "cell_type": "code",
   "execution_count": 6,
   "id": "8a4a5912",
   "metadata": {},
   "outputs": [
    {
     "data": {
      "text/html": [
       "<div>\n",
       "<style scoped>\n",
       "    .dataframe tbody tr th:only-of-type {\n",
       "        vertical-align: middle;\n",
       "    }\n",
       "\n",
       "    .dataframe tbody tr th {\n",
       "        vertical-align: top;\n",
       "    }\n",
       "\n",
       "    .dataframe thead th {\n",
       "        text-align: right;\n",
       "    }\n",
       "</style>\n",
       "<table border=\"1\" class=\"dataframe\">\n",
       "  <thead>\n",
       "    <tr style=\"text-align: right;\">\n",
       "      <th></th>\n",
       "      <th>label</th>\n",
       "      <th>final_tweets</th>\n",
       "    </tr>\n",
       "  </thead>\n",
       "  <tbody>\n",
       "    <tr>\n",
       "      <th>0</th>\n",
       "      <td>socialworker</td>\n",
       "      <td>social worker tested throughout career here at...</td>\n",
       "    </tr>\n",
       "    <tr>\n",
       "      <th>1</th>\n",
       "      <td>socialworker</td>\n",
       "      <td>eunicumsd exclt h found ecsdn yr ago wish stu...</td>\n",
       "    </tr>\n",
       "    <tr>\n",
       "      <th>2</th>\n",
       "      <td>socialworker</td>\n",
       "      <td>flower friday friday doodle sharpy expressivea...</td>\n",
       "    </tr>\n",
       "    <tr>\n",
       "      <th>3</th>\n",
       "      <td>socialworker</td>\n",
       "      <td>smttulsigowda socialworker padmashriaward kara...</td>\n",
       "    </tr>\n",
       "    <tr>\n",
       "      <th>4</th>\n",
       "      <td>socialworker</td>\n",
       "      <td>pahospice vacancy looking expericed socialwor...</td>\n",
       "    </tr>\n",
       "  </tbody>\n",
       "</table>\n",
       "</div>"
      ],
      "text/plain": [
       "          label                                       final_tweets\n",
       "0  socialworker  social worker tested throughout career here at...\n",
       "1  socialworker   eunicumsd exclt h found ecsdn yr ago wish stu...\n",
       "2  socialworker  flower friday friday doodle sharpy expressivea...\n",
       "3  socialworker  smttulsigowda socialworker padmashriaward kara...\n",
       "4  socialworker   pahospice vacancy looking expericed socialwor..."
      ]
     },
     "execution_count": 6,
     "metadata": {},
     "output_type": "execute_result"
    }
   ],
   "source": [
    "df=df.drop('Tweet_lemmatized',axis=1)\n",
    "df.head()"
   ]
  },
  {
   "cell_type": "code",
   "execution_count": 7,
   "id": "d5bccd80",
   "metadata": {},
   "outputs": [
    {
     "data": {
      "text/plain": [
       "Text(0, 0.5, 'Frequency')"
      ]
     },
     "execution_count": 7,
     "metadata": {},
     "output_type": "execute_result"
    },
    {
     "data": {
      "image/png": "[encoded data removed]",
      "text/plain": [
       "<Figure size 1008x576 with 1 Axes>"
      ]
     },
     "metadata": {
      "needs_background": "light"
     },
     "output_type": "display_data"
    }
   ],
   "source": [
    "ax = df['label'].value_counts().plot(kind='bar',\n",
    "                                    figsize=(14,8),\n",
    "                                    title=\"Number for labels\")\n",
    "ax.set_xlabel(\"Labels\")\n",
    "ax.set_ylabel(\"Frequency\")"
   ]
  },
  {
   "cell_type": "code",
   "execution_count": 8,
   "id": "65954ca7",
   "metadata": {},
   "outputs": [
    {
     "data": {
      "text/plain": [
       "covid           376\n",
       "socialworker    376\n",
       "Name: label, dtype: int64"
      ]
     },
     "execution_count": 8,
     "metadata": {},
     "output_type": "execute_result"
    }
   ],
   "source": [
    "# Separate majority and minority classes\n",
    "df_majority = df[df.label=='covid']\n",
    "df_minority = df[df.label=='socialworker']\n",
    " \n",
    "# Downsample majority class\n",
    "df_majority_downsampled = resample(df_majority, \n",
    "                                 replace=False,    # sample without replacement\n",
    "                                 n_samples=len(df_minority),     # to match minority class\n",
    "                                 random_state=123) # reproducible results\n",
    " \n",
    "# Combine minority class with downsampled majority class\n",
    "df_downsampled = pd.concat([df_majority_downsampled, df_minority])\n",
    " \n",
    "# Display new class counts\n",
    "df_downsampled.label.value_counts()\n",
    "# 1    49\n",
    "# 0    49\n",
    "# Name: balance, dtype: int64"
   ]
  },
  {
   "cell_type": "code",
   "execution_count": 9,
   "id": "b211be1d",
   "metadata": {},
   "outputs": [],
   "source": [
    "X=df_downsampled['final_tweets'].values\n",
    "y=df_downsampled['label'].values"
   ]
  },
  {
   "cell_type": "code",
   "execution_count": 10,
   "id": "06ee641f",
   "metadata": {},
   "outputs": [
    {
     "data": {
      "text/plain": [
       "array([0, 0, 0, 0, 0, 0, 0, 0, 0, 0, 0, 0, 0, 0, 0, 0, 0, 0, 0, 0, 0, 0,\n",
       "       0, 0, 0, 0, 0, 0, 0, 0, 0, 0, 0, 0, 0, 0, 0, 0, 0, 0, 0, 0, 0, 0,\n",
       "       0, 0, 0, 0, 0, 0, 0, 0, 0, 0, 0, 0, 0, 0, 0, 0, 0, 0, 0, 0, 0, 0,\n",
       "       0, 0, 0, 0, 0, 0, 0, 0, 0, 0, 0, 0, 0, 0, 0, 0, 0, 0, 0, 0, 0, 0,\n",
       "       0, 0, 0, 0, 0, 0, 0, 0, 0, 0, 0, 0, 0, 0, 0, 0, 0, 0, 0, 0, 0, 0,\n",
       "       0, 0, 0, 0, 0, 0, 0, 0, 0, 0, 0, 0, 0, 0, 0, 0, 0, 0, 0, 0, 0, 0,\n",
       "       0, 0, 0, 0, 0, 0, 0, 0, 0, 0, 0, 0, 0, 0, 0, 0, 0, 0, 0, 0, 0, 0,\n",
       "       0, 0, 0, 0, 0, 0, 0, 0, 0, 0, 0, 0, 0, 0, 0, 0, 0, 0, 0, 0, 0, 0,\n",
       "       0, 0, 0, 0, 0, 0, 0, 0, 0, 0, 0, 0, 0, 0, 0, 0, 0, 0, 0, 0, 0, 0,\n",
       "       0, 0, 0, 0, 0, 0, 0, 0, 0, 0, 0, 0, 0, 0, 0, 0, 0, 0, 0, 0, 0, 0,\n",
       "       0, 0, 0, 0, 0, 0, 0, 0, 0, 0, 0, 0, 0, 0, 0, 0, 0, 0, 0, 0, 0, 0,\n",
       "       0, 0, 0, 0, 0, 0, 0, 0, 0, 0, 0, 0, 0, 0, 0, 0, 0, 0, 0, 0, 0, 0,\n",
       "       0, 0, 0, 0, 0, 0, 0, 0, 0, 0, 0, 0, 0, 0, 0, 0, 0, 0, 0, 0, 0, 0,\n",
       "       0, 0, 0, 0, 0, 0, 0, 0, 0, 0, 0, 0, 0, 0, 0, 0, 0, 0, 0, 0, 0, 0,\n",
       "       0, 0, 0, 0, 0, 0, 0, 0, 0, 0, 0, 0, 0, 0, 0, 0, 0, 0, 0, 0, 0, 0,\n",
       "       0, 0, 0, 0, 0, 0, 0, 0, 0, 0, 0, 0, 0, 0, 0, 0, 0, 0, 0, 0, 0, 0,\n",
       "       0, 0, 0, 0, 0, 0, 0, 0, 0, 0, 0, 0, 0, 0, 0, 0, 0, 0, 0, 0, 0, 0,\n",
       "       0, 0, 1, 1, 1, 1, 1, 1, 1, 1, 1, 1, 1, 1, 1, 1, 1, 1, 1, 1, 1, 1,\n",
       "       1, 1, 1, 1, 1, 1, 1, 1, 1, 1, 1, 1, 1, 1, 1, 1, 1, 1, 1, 1, 1, 1,\n",
       "       1, 1, 1, 1, 1, 1, 1, 1, 1, 1, 1, 1, 1, 1, 1, 1, 1, 1, 1, 1, 1, 1,\n",
       "       1, 1, 1, 1, 1, 1, 1, 1, 1, 1, 1, 1, 1, 1, 1, 1, 1, 1, 1, 1, 1, 1,\n",
       "       1, 1, 1, 1, 1, 1, 1, 1, 1, 1, 1, 1, 1, 1, 1, 1, 1, 1, 1, 1, 1, 1,\n",
       "       1, 1, 1, 1, 1, 1, 1, 1, 1, 1, 1, 1, 1, 1, 1, 1, 1, 1, 1, 1, 1, 1,\n",
       "       1, 1, 1, 1, 1, 1, 1, 1, 1, 1, 1, 1, 1, 1, 1, 1, 1, 1, 1, 1, 1, 1,\n",
       "       1, 1, 1, 1, 1, 1, 1, 1, 1, 1, 1, 1, 1, 1, 1, 1, 1, 1, 1, 1, 1, 1,\n",
       "       1, 1, 1, 1, 1, 1, 1, 1, 1, 1, 1, 1, 1, 1, 1, 1, 1, 1, 1, 1, 1, 1,\n",
       "       1, 1, 1, 1, 1, 1, 1, 1, 1, 1, 1, 1, 1, 1, 1, 1, 1, 1, 1, 1, 1, 1,\n",
       "       1, 1, 1, 1, 1, 1, 1, 1, 1, 1, 1, 1, 1, 1, 1, 1, 1, 1, 1, 1, 1, 1,\n",
       "       1, 1, 1, 1, 1, 1, 1, 1, 1, 1, 1, 1, 1, 1, 1, 1, 1, 1, 1, 1, 1, 1,\n",
       "       1, 1, 1, 1, 1, 1, 1, 1, 1, 1, 1, 1, 1, 1, 1, 1, 1, 1, 1, 1, 1, 1,\n",
       "       1, 1, 1, 1, 1, 1, 1, 1, 1, 1, 1, 1, 1, 1, 1, 1, 1, 1, 1, 1, 1, 1,\n",
       "       1, 1, 1, 1, 1, 1, 1, 1, 1, 1, 1, 1, 1, 1, 1, 1, 1, 1, 1, 1, 1, 1,\n",
       "       1, 1, 1, 1, 1, 1, 1, 1, 1, 1, 1, 1, 1, 1, 1, 1, 1, 1, 1, 1, 1, 1,\n",
       "       1, 1, 1, 1, 1, 1, 1, 1, 1, 1, 1, 1, 1, 1, 1, 1, 1, 1, 1, 1, 1, 1,\n",
       "       1, 1, 1, 1])"
      ]
     },
     "execution_count": 10,
     "metadata": {},
     "output_type": "execute_result"
    }
   ],
   "source": [
    "from sklearn.preprocessing import LabelEncoder\n",
    "labelencoder = LabelEncoder()\n",
    "y = labelencoder.fit_transform(y)\n",
    "y"
   ]
  },
  {
   "cell_type": "code",
   "execution_count": 11,
   "id": "c5ef5e82",
   "metadata": {},
   "outputs": [
    {
     "data": {
      "text/plain": [
       "dict_values([376, 376])"
      ]
     },
     "execution_count": 11,
     "metadata": {},
     "output_type": "execute_result"
    }
   ],
   "source": [
    "import random as rd\n",
    "MyCV_content=CountVectorizer(input='content',\n",
    "                        stop_words='english'\n",
    "                        #max_features=100\n",
    "                        )\n",
    "\n",
    "My_DTM2=MyCV_content.fit_transform(X)\n",
    "ColNames=MyCV_content.get_feature_names()\n",
    "My_DF_content=pd.DataFrame(My_DTM2.toarray(),columns=ColNames)\n",
    "\n",
    "\n",
    "My_DF_content['LABEL'] = pd.DataFrame(y,columns=['LABEL'])\n",
    "rd.seed(1993)\n",
    "TrainDF, TestDF = train_test_split(My_DF_content, test_size=0.25)\n",
    "TrainLabels=TrainDF[\"LABEL\"]\n",
    "TestLabels=TestDF[\"LABEL\"]\n",
    "\n",
    "TrainDF = TrainDF.drop([\"LABEL\"], axis=1)\n",
    "TestDF = TestDF.drop([\"LABEL\"], axis=1)\n",
    "\n",
    "from collections import Counter\n",
    "Counter(y).keys()\n",
    "Counter(y).values()"
   ]
  },
  {
   "cell_type": "code",
   "execution_count": 12,
   "id": "5a6d7c47",
   "metadata": {},
   "outputs": [],
   "source": [
    "from sklearn.svm import SVC\n",
    "from sklearn.model_selection import GridSearchCV\n",
    "from sklearn.model_selection import learning_curve\n",
    "\n",
    "def svc_param_selection(X, y,k):\n",
    "    Cs = [ .01, 1, 5, 10]\n",
    "    param_grid = {'C': Cs}\n",
    "    grid_search = GridSearchCV(SVC(kernel=k), param_grid)\n",
    "    grid_search.fit(X, y)\n",
    "    grid_search.best_params_\n",
    "    return grid_search.best_params_"
   ]
  },
  {
   "cell_type": "code",
   "execution_count": 13,
   "id": "d29f5408",
   "metadata": {},
   "outputs": [
    {
     "data": {
      "text/plain": [
       "{'C': 1}"
      ]
     },
     "execution_count": 13,
     "metadata": {},
     "output_type": "execute_result"
    }
   ],
   "source": [
    "# Getting the best cost margin\n",
    "svc_param_selection(TrainDF, TrainLabels,\"linear\")"
   ]
  },
  {
   "cell_type": "code",
   "execution_count": 20,
   "id": "07f9a56b",
   "metadata": {},
   "outputs": [
    {
     "name": "stdout",
     "output_type": "stream",
     "text": [
      "              precision    recall  f1-score   support\n",
      "\n",
      "           0       0.99      0.89      0.94       103\n",
      "           1       0.88      0.99      0.93        85\n",
      "\n",
      "    accuracy                           0.94       188\n",
      "   macro avg       0.94      0.94      0.94       188\n",
      "weighted avg       0.94      0.94      0.94       188\n",
      "\n"
     ]
    },
    {
     "data": {
      "image/png": "[encoded data removed]",
      "text/plain": [
       "<Figure size 432x288 with 2 Axes>"
      ]
     },
     "metadata": {
      "needs_background": "light"
     },
     "output_type": "display_data"
    }
   ],
   "source": [
    "# Linear Kernal\n",
    "\n",
    "SVM_Model=SVC(kernel='linear', C=1, probability=True)\n",
    "SVM_Model.fit(TrainDF, TrainLabels)\n",
    "\n",
    "Preds_SVM1 = SVM_Model.predict(TestDF)\n",
    "Pred_Proba_SVM1 = SVM_Model.predict_proba(TestDF)\n",
    "SVM_matrix = confusion_matrix(TestLabels, Preds_SVM1)\n",
    "print(metrics.classification_report(TestLabels, Preds_SVM1))\n",
    "\n",
    "##Visualise Confusion Matrix\n",
    "labels = ['socialworker', 'covid']\n",
    "ax1=plt.subplot()\n",
    "sns.heatmap(confusion_matrix(TestLabels, Preds_SVM1), annot=True, fmt='g', ax=ax1);\n",
    "\n",
    "# labels, title and ticks\n",
    "ax1.set_xlabel('Predicted labels');ax1.set_ylabel('True labels'); \n",
    "ax1.set_title('Confusion Matrix'); \n",
    "ax1.xaxis.set_ticklabels(labels); ax1.yaxis.set_ticklabels(labels);\n",
    "plt.show()\n",
    "plt.close()\n"
   ]
  },
  {
   "cell_type": "code",
   "execution_count": 16,
   "id": "7efca4f0",
   "metadata": {},
   "outputs": [
    {
     "data": {
      "text/plain": [
       "{'C': 10}"
      ]
     },
     "execution_count": 16,
     "metadata": {},
     "output_type": "execute_result"
    }
   ],
   "source": [
    "# Polynomial Kernal - Finding best Cost Margin\n",
    "\n",
    "svc_param_selection(TrainDF, TrainLabels,\"poly\")"
   ]
  },
  {
   "cell_type": "code",
   "execution_count": 21,
   "id": "e09cdca7",
   "metadata": {},
   "outputs": [
    {
     "name": "stdout",
     "output_type": "stream",
     "text": [
      "              precision    recall  f1-score   support\n",
      "\n",
      "           0       1.00      0.54      0.70       103\n",
      "           1       0.64      1.00      0.78        85\n",
      "\n",
      "    accuracy                           0.75       188\n",
      "   macro avg       0.82      0.77      0.74       188\n",
      "weighted avg       0.84      0.75      0.74       188\n",
      "\n"
     ]
    },
    {
     "data": {
      "image/png": "[encoded data removed]",
      "text/plain": [
       "<Figure size 432x288 with 2 Axes>"
      ]
     },
     "metadata": {
      "needs_background": "light"
     },
     "output_type": "display_data"
    }
   ],
   "source": [
    "# Poly Kernal - C = 10\n",
    "\n",
    "SVM_Model2=SVC(kernel='poly', C=10,probability=True)\n",
    "SVM_Model2.fit(TrainDF, TrainLabels)\n",
    "\n",
    "Preds_SVM2 = SVM_Model2.predict(TestDF)\n",
    "Pred_Proba_SVM2 = SVM_Model2.predict_proba(TestDF)\n",
    "SVM_matrix = confusion_matrix(TestLabels, Preds_SVM2)\n",
    "print(metrics.classification_report(TestLabels, Preds_SVM2))\n",
    "\n",
    "##Visualise Confusion Matrix\n",
    "labels = ['socialworker', 'covid']\n",
    "ax1=plt.subplot()\n",
    "sns.heatmap(confusion_matrix(TestLabels, Preds_SVM2), annot=True, fmt='g', ax=ax1);\n",
    "\n",
    "# labels, title and ticks\n",
    "ax1.set_xlabel('Predicted labels');ax1.set_ylabel('True labels'); \n",
    "ax1.set_title('Confusion Matrix'); \n",
    "ax1.xaxis.set_ticklabels(labels); ax1.yaxis.set_ticklabels(labels);\n",
    "plt.show()\n",
    "plt.close()\n",
    "\n"
   ]
  },
  {
   "cell_type": "code",
   "execution_count": 18,
   "id": "4c055109",
   "metadata": {},
   "outputs": [
    {
     "data": {
      "text/plain": [
       "{'C': 5}"
      ]
     },
     "execution_count": 18,
     "metadata": {},
     "output_type": "execute_result"
    }
   ],
   "source": [
    "#RBF - Finding best Cost Margin\n",
    "\n",
    "svc_param_selection(TrainDF, TrainLabels,\"rbf\")"
   ]
  },
  {
   "cell_type": "code",
   "execution_count": 22,
   "id": "30ea357f",
   "metadata": {},
   "outputs": [
    {
     "name": "stdout",
     "output_type": "stream",
     "text": [
      "              precision    recall  f1-score   support\n",
      "\n",
      "           0       0.99      0.92      0.95       103\n",
      "           1       0.91      0.99      0.95        85\n",
      "\n",
      "    accuracy                           0.95       188\n",
      "   macro avg       0.95      0.96      0.95       188\n",
      "weighted avg       0.95      0.95      0.95       188\n",
      "\n"
     ]
    },
    {
     "data": {
      "image/png": "[encoded data removed]",
      "text/plain": [
       "<Figure size 432x288 with 2 Axes>"
      ]
     },
     "metadata": {
      "needs_background": "light"
     },
     "output_type": "display_data"
    }
   ],
   "source": [
    "# RBF Kernal - C = 5\n",
    "\n",
    "SVM_Model3=SVC(kernel='rbf', C=5,probability=True)\n",
    "SVM_Model3.fit(TrainDF, TrainLabels)\n",
    "\n",
    "Preds_SVM3 = SVM_Model3.predict(TestDF)\n",
    "Pred_Proba_SVM3 = SVM_Model3.predict_proba(TestDF)\n",
    "SVM_matrix3 = confusion_matrix(TestLabels, Preds_SVM3)\n",
    "print(metrics.classification_report(TestLabels, Preds_SVM3))\n",
    "\n",
    "##Visualise Confusion Matrix\n",
    "labels = ['socialworker', 'covid']\n",
    "ax1=plt.subplot()\n",
    "sns.heatmap(confusion_matrix(TestLabels, Preds_SVM3), annot=True, fmt='g', ax=ax1);\n",
    "\n",
    "# labels, title and ticks\n",
    "ax1.set_xlabel('Predicted labels');ax1.set_ylabel('True labels'); \n",
    "ax1.set_title('Confusion Matrix'); \n",
    "ax1.xaxis.set_ticklabels(labels); ax1.yaxis.set_ticklabels(labels);\n",
    "plt.show()\n",
    "plt.close()"
   ]
  }
 ],
 "metadata": {
  "kernelspec": {
   "display_name": "Python 3",
   "language": "python",
   "name": "python3"
  },
  "language_info": {
   "codemirror_mode": {
    "name": "ipython",
    "version": 3
   },
   "file_extension": ".py",
   "mimetype": "text/x-python",
   "name": "python",
   "nbconvert_exporter": "python",
   "pygments_lexer": "ipython3",
   "version": "3.8.8"
  }
 },
 "nbformat": 4,
 "nbformat_minor": 5
}
